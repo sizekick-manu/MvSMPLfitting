{
 "cells": [
  {
   "cell_type": "code",
   "execution_count": 3,
   "metadata": {},
   "outputs": [],
   "source": [
    "import numpy as np\n",
    "import matplotlib.pyplot as plt\n",
    "import os\n",
    "import sys\n",
    "import shutil"
   ]
  },
  {
   "cell_type": "code",
   "execution_count": 4,
   "metadata": {},
   "outputs": [],
   "source": [
    "## normal\n",
    "normal_path = \"/home/manu.puthiyadath/data/silver/images/smpl-supernova-video-frames-png-2/dataset/n/\"\n",
    "normal_files = os.listdir(normal_path)\n",
    "## go through the folders in normal_path\n",
    "\n",
    "\n"
   ]
  },
  {
   "cell_type": "code",
   "execution_count": 6,
   "metadata": {},
   "outputs": [
    {
     "name": "stdout",
     "output_type": "stream",
     "text": [
      "error in folder image-renders\n",
      "[Errno 2] No such file or directory: '/home/manu.puthiyadath/data/silver/images/smpl-supernova-video-frames-png-2/dataset/n/image-renders/0.png'\n",
      "error in folder keypoints\n",
      "[Errno 2] No such file or directory: '/home/manu.puthiyadath/data/silver/images/smpl-supernova-video-frames-png-2/dataset/n/keypoints/0.png'\n",
      "done\n"
     ]
    }
   ],
   "source": [
    "## for each folder in the normal path, create a new subfolder with a title consisting of the last few numbers of the foldername and transfer the content into that folder\n",
    "import os.path as osp\n",
    "\n",
    "\n",
    "## from normal_files, choose only those lines that start with 2\n",
    "\n",
    "normal_files.sort()\n",
    "for folder in normal_files:\n",
    "    try:\n",
    "        subfolder_path = osp.join(normal_path, folder)\n",
    "        new_subfolder_name = folder[-4:]\n",
    "        new_subfolder_path = osp.join(normal_path, 'image-renders', folder, new_subfolder_name)\n",
    "        if not osp.exists(new_subfolder_path):\n",
    "            os.makedirs(new_subfolder_path)\n",
    "\n",
    "        ## copy the first file of subfolder_path to new_subfolder_path\n",
    "        # file = os.listdir(subfolder_path)[0]\n",
    "        file_path = osp.join(subfolder_path, '0.png')\n",
    "        new_file_path = osp.join(new_subfolder_path, '0.png')\n",
    "        ## copy the contents of file_path to new_file_path\n",
    "\n",
    "        shutil.copy(file_path, new_file_path)\n",
    "    except Exception as e:\n",
    "        print(\"error in folder {}\".format(folder))\n",
    "        print(e)\n",
    "\n",
    "print(\"done\")\n",
    "\n",
    "    ## delete the subfolder\n",
    "    # os.rmdir(subfolder_path)\n"
   ]
  },
  {
   "cell_type": "code",
   "execution_count": 12,
   "metadata": {},
   "outputs": [],
   "source": [
    "## normal\n",
    "normal_path = \"/home/manu.puthiyadath/data/silver/images/smpl-supernova-video-frames-png-2/dataset/n/\"\n",
    "normal_files = os.listdir(normal_path)\n",
    "## go through the folders in normal_path\n",
    "normal_files.sort()\n",
    "\n"
   ]
  },
  {
   "cell_type": "code",
   "execution_count": 14,
   "metadata": {},
   "outputs": [
    {
     "ename": "FileNotFoundError",
     "evalue": "[Errno 2] No such file or directory: '/home/manu.puthiyadath/data/silver/images/smpl-supernova-video-frames-png-2/dataset/n/0001/0.png'",
     "output_type": "error",
     "traceback": [
      "\u001b[0;31m---------------------------------------------------------------------------\u001b[0m",
      "\u001b[0;31mFileNotFoundError\u001b[0m                         Traceback (most recent call last)",
      "\u001b[1;32m/home/manu.puthiyadath/projects/MvSMPLfitting/notebooks/create_supernova_dataset_smpl.ipynb Cell 5\u001b[0m line \u001b[0;36m6\n\u001b[1;32m      <a href='vscode-notebook-cell://ssh-remote%2B7b22686f73744e616d65223a224c6569612d45787465726e616c227d/home/manu.puthiyadath/projects/MvSMPLfitting/notebooks/create_supernova_dataset_smpl.ipynb#W4sdnNjb2RlLXJlbW90ZQ%3D%3D?line=3'>4</a>\u001b[0m \u001b[39mif\u001b[39;00m \u001b[39mnot\u001b[39;00m osp\u001b[39m.\u001b[39mexists(subfolder_path):\n\u001b[1;32m      <a href='vscode-notebook-cell://ssh-remote%2B7b22686f73744e616d65223a224c6569612d45787465726e616c227d/home/manu.puthiyadath/projects/MvSMPLfitting/notebooks/create_supernova_dataset_smpl.ipynb#W4sdnNjb2RlLXJlbW90ZQ%3D%3D?line=4'>5</a>\u001b[0m     os\u001b[39m.\u001b[39mmakedirs(subfolder_path)\n\u001b[0;32m----> <a href='vscode-notebook-cell://ssh-remote%2B7b22686f73744e616d65223a224c6569612d45787465726e616c227d/home/manu.puthiyadath/projects/MvSMPLfitting/notebooks/create_supernova_dataset_smpl.ipynb#W4sdnNjb2RlLXJlbW90ZQ%3D%3D?line=5'>6</a>\u001b[0m shutil\u001b[39m.\u001b[39;49mcopy(osp\u001b[39m.\u001b[39;49mjoin(folder_path, \u001b[39m'\u001b[39;49m\u001b[39m0.png\u001b[39;49m\u001b[39m'\u001b[39;49m), osp\u001b[39m.\u001b[39;49mjoin(subfolder_path, \u001b[39m'\u001b[39;49m\u001b[39m0.png\u001b[39;49m\u001b[39m'\u001b[39;49m))\n\u001b[1;32m      <a href='vscode-notebook-cell://ssh-remote%2B7b22686f73744e616d65223a224c6569612d45787465726e616c227d/home/manu.puthiyadath/projects/MvSMPLfitting/notebooks/create_supernova_dataset_smpl.ipynb#W4sdnNjb2RlLXJlbW90ZQ%3D%3D?line=6'>7</a>\u001b[0m \u001b[39m## delete folder_path/0.png\u001b[39;00m\n\u001b[1;32m      <a href='vscode-notebook-cell://ssh-remote%2B7b22686f73744e616d65223a224c6569612d45787465726e616c227d/home/manu.puthiyadath/projects/MvSMPLfitting/notebooks/create_supernova_dataset_smpl.ipynb#W4sdnNjb2RlLXJlbW90ZQ%3D%3D?line=7'>8</a>\u001b[0m os\u001b[39m.\u001b[39mremove(osp\u001b[39m.\u001b[39mjoin(folder_path, \u001b[39m'\u001b[39m\u001b[39m0.png\u001b[39m\u001b[39m'\u001b[39m))\n",
      "File \u001b[0;32m~/anaconda3/envs/mvsmplfit_v2/lib/python3.9/shutil.py:427\u001b[0m, in \u001b[0;36mcopy\u001b[0;34m(src, dst, follow_symlinks)\u001b[0m\n\u001b[1;32m    425\u001b[0m \u001b[39mif\u001b[39;00m os\u001b[39m.\u001b[39mpath\u001b[39m.\u001b[39misdir(dst):\n\u001b[1;32m    426\u001b[0m     dst \u001b[39m=\u001b[39m os\u001b[39m.\u001b[39mpath\u001b[39m.\u001b[39mjoin(dst, os\u001b[39m.\u001b[39mpath\u001b[39m.\u001b[39mbasename(src))\n\u001b[0;32m--> 427\u001b[0m copyfile(src, dst, follow_symlinks\u001b[39m=\u001b[39;49mfollow_symlinks)\n\u001b[1;32m    428\u001b[0m copymode(src, dst, follow_symlinks\u001b[39m=\u001b[39mfollow_symlinks)\n\u001b[1;32m    429\u001b[0m \u001b[39mreturn\u001b[39;00m dst\n",
      "File \u001b[0;32m~/anaconda3/envs/mvsmplfit_v2/lib/python3.9/shutil.py:264\u001b[0m, in \u001b[0;36mcopyfile\u001b[0;34m(src, dst, follow_symlinks)\u001b[0m\n\u001b[1;32m    262\u001b[0m     os\u001b[39m.\u001b[39msymlink(os\u001b[39m.\u001b[39mreadlink(src), dst)\n\u001b[1;32m    263\u001b[0m \u001b[39melse\u001b[39;00m:\n\u001b[0;32m--> 264\u001b[0m     \u001b[39mwith\u001b[39;00m \u001b[39mopen\u001b[39;49m(src, \u001b[39m'\u001b[39;49m\u001b[39mrb\u001b[39;49m\u001b[39m'\u001b[39;49m) \u001b[39mas\u001b[39;00m fsrc:\n\u001b[1;32m    265\u001b[0m         \u001b[39mtry\u001b[39;00m:\n\u001b[1;32m    266\u001b[0m             \u001b[39mwith\u001b[39;00m \u001b[39mopen\u001b[39m(dst, \u001b[39m'\u001b[39m\u001b[39mwb\u001b[39m\u001b[39m'\u001b[39m) \u001b[39mas\u001b[39;00m fdst:\n\u001b[1;32m    267\u001b[0m                 \u001b[39m# macOS\u001b[39;00m\n",
      "\u001b[0;31mFileNotFoundError\u001b[0m: [Errno 2] No such file or directory: '/home/manu.puthiyadath/data/silver/images/smpl-supernova-video-frames-png-2/dataset/n/0001/0.png'"
     ]
    }
   ],
   "source": [
    "for folder in normal_files:\n",
    "    folder_path = osp.join(normal_path, folder)\n",
    "    subfolder_path = osp.join(folder_path, '20'+folder)\n",
    "    if not osp.exists(subfolder_path):\n",
    "        os.makedirs(subfolder_path)\n",
    "    shutil.copy(osp.join(folder_path, '0.png'), osp.join(subfolder_path, '0.png'))\n",
    "    ## delete folder_path/0.png\n",
    "    os.remove(osp.join(folder_path, '0.png'))"
   ]
  },
  {
   "cell_type": "code",
   "execution_count": 18,
   "metadata": {},
   "outputs": [],
   "source": [
    "kp_folder = \"/home/manu.puthiyadath/data/silver/images/smpl-supernova-video-frames-png-2/dataset/n/keypoints/\"\n",
    "kp_files = os.listdir(kp_folder)\n",
    "## go through the folders in kp_folder\n",
    "kp_files.sort()\n"
   ]
  },
  {
   "cell_type": "code",
   "execution_count": 19,
   "metadata": {},
   "outputs": [],
   "source": [
    "kp_folder = \"/home/manu.puthiyadath/data/silver/images/smpl-supernova-video-frames-png-2/dataset/n/keypoints/\"\n",
    "kp_files = os.listdir(kp_folder)\n",
    "## go through the folders in kp_folder\n",
    "kp_files.sort()\n",
    "\n",
    "\n",
    "for folder in kp_files:\n",
    "    folder_path = osp.join(kp_folder, folder)\n",
    "    subfolder_path = osp.join(folder_path, '20'+folder)\n",
    "    if not osp.exists(subfolder_path):\n",
    "        os.makedirs(subfolder_path)\n",
    "    shutil.copy(osp.join(folder_path, '0.json'), osp.join(subfolder_path, '0.json'))\n",
    "    ## delete folder_path/0.png\n",
    "    os.remove(osp.join(folder_path, '0.json'))"
   ]
  },
  {
   "cell_type": "code",
   "execution_count": 25,
   "metadata": {},
   "outputs": [
    {
     "ename": "FileNotFoundError",
     "evalue": "[Errno 2] No such file or directory: '/home/manu.puthiyadath/data/silver/images/smpl-supernova-video-frames-png-2/dataset/n/image-renders/0001/0.png'",
     "output_type": "error",
     "traceback": [
      "\u001b[0;31m---------------------------------------------------------------------------\u001b[0m",
      "\u001b[0;31mFileNotFoundError\u001b[0m                         Traceback (most recent call last)",
      "\u001b[1;32m/home/manu.puthiyadath/projects/MvSMPLfitting/notebooks/create_supernova_dataset_smpl.ipynb Cell 8\u001b[0m line \u001b[0;36m1\n\u001b[1;32m     <a href='vscode-notebook-cell://ssh-remote%2B7b22686f73744e616d65223a224c6569612d45787465726e616c227d/home/manu.puthiyadath/projects/MvSMPLfitting/notebooks/create_supernova_dataset_smpl.ipynb#X10sdnNjb2RlLXJlbW90ZQ%3D%3D?line=9'>10</a>\u001b[0m \u001b[39mif\u001b[39;00m \u001b[39mnot\u001b[39;00m osp\u001b[39m.\u001b[39mexists(subfolder_path):\n\u001b[1;32m     <a href='vscode-notebook-cell://ssh-remote%2B7b22686f73744e616d65223a224c6569612d45787465726e616c227d/home/manu.puthiyadath/projects/MvSMPLfitting/notebooks/create_supernova_dataset_smpl.ipynb#X10sdnNjb2RlLXJlbW90ZQ%3D%3D?line=10'>11</a>\u001b[0m     os\u001b[39m.\u001b[39mmakedirs(subfolder_path)\n\u001b[0;32m---> <a href='vscode-notebook-cell://ssh-remote%2B7b22686f73744e616d65223a224c6569612d45787465726e616c227d/home/manu.puthiyadath/projects/MvSMPLfitting/notebooks/create_supernova_dataset_smpl.ipynb#X10sdnNjb2RlLXJlbW90ZQ%3D%3D?line=11'>12</a>\u001b[0m shutil\u001b[39m.\u001b[39;49mcopy(osp\u001b[39m.\u001b[39;49mjoin(folder_path, \u001b[39m'\u001b[39;49m\u001b[39m0.png\u001b[39;49m\u001b[39m'\u001b[39;49m), osp\u001b[39m.\u001b[39;49mjoin(subfolder_path, \u001b[39m'\u001b[39;49m\u001b[39m0.json\u001b[39;49m\u001b[39m'\u001b[39;49m))\n\u001b[1;32m     <a href='vscode-notebook-cell://ssh-remote%2B7b22686f73744e616d65223a224c6569612d45787465726e616c227d/home/manu.puthiyadath/projects/MvSMPLfitting/notebooks/create_supernova_dataset_smpl.ipynb#X10sdnNjb2RlLXJlbW90ZQ%3D%3D?line=12'>13</a>\u001b[0m \u001b[39m## delete folder_path/0.png\u001b[39;00m\n\u001b[1;32m     <a href='vscode-notebook-cell://ssh-remote%2B7b22686f73744e616d65223a224c6569612d45787465726e616c227d/home/manu.puthiyadath/projects/MvSMPLfitting/notebooks/create_supernova_dataset_smpl.ipynb#X10sdnNjb2RlLXJlbW90ZQ%3D%3D?line=13'>14</a>\u001b[0m \u001b[39mif\u001b[39;00m osp\u001b[39m.\u001b[39mexists(osp\u001b[39m.\u001b[39mjoin(folder_path, \u001b[39m'\u001b[39m\u001b[39m0.png\u001b[39m\u001b[39m'\u001b[39m)):\n",
      "File \u001b[0;32m~/anaconda3/envs/mvsmplfit_v2/lib/python3.9/shutil.py:427\u001b[0m, in \u001b[0;36mcopy\u001b[0;34m(src, dst, follow_symlinks)\u001b[0m\n\u001b[1;32m    425\u001b[0m \u001b[39mif\u001b[39;00m os\u001b[39m.\u001b[39mpath\u001b[39m.\u001b[39misdir(dst):\n\u001b[1;32m    426\u001b[0m     dst \u001b[39m=\u001b[39m os\u001b[39m.\u001b[39mpath\u001b[39m.\u001b[39mjoin(dst, os\u001b[39m.\u001b[39mpath\u001b[39m.\u001b[39mbasename(src))\n\u001b[0;32m--> 427\u001b[0m copyfile(src, dst, follow_symlinks\u001b[39m=\u001b[39;49mfollow_symlinks)\n\u001b[1;32m    428\u001b[0m copymode(src, dst, follow_symlinks\u001b[39m=\u001b[39mfollow_symlinks)\n\u001b[1;32m    429\u001b[0m \u001b[39mreturn\u001b[39;00m dst\n",
      "File \u001b[0;32m~/anaconda3/envs/mvsmplfit_v2/lib/python3.9/shutil.py:264\u001b[0m, in \u001b[0;36mcopyfile\u001b[0;34m(src, dst, follow_symlinks)\u001b[0m\n\u001b[1;32m    262\u001b[0m     os\u001b[39m.\u001b[39msymlink(os\u001b[39m.\u001b[39mreadlink(src), dst)\n\u001b[1;32m    263\u001b[0m \u001b[39melse\u001b[39;00m:\n\u001b[0;32m--> 264\u001b[0m     \u001b[39mwith\u001b[39;00m \u001b[39mopen\u001b[39;49m(src, \u001b[39m'\u001b[39;49m\u001b[39mrb\u001b[39;49m\u001b[39m'\u001b[39;49m) \u001b[39mas\u001b[39;00m fsrc:\n\u001b[1;32m    265\u001b[0m         \u001b[39mtry\u001b[39;00m:\n\u001b[1;32m    266\u001b[0m             \u001b[39mwith\u001b[39;00m \u001b[39mopen\u001b[39m(dst, \u001b[39m'\u001b[39m\u001b[39mwb\u001b[39m\u001b[39m'\u001b[39m) \u001b[39mas\u001b[39;00m fdst:\n\u001b[1;32m    267\u001b[0m                 \u001b[39m# macOS\u001b[39;00m\n",
      "\u001b[0;31mFileNotFoundError\u001b[0m: [Errno 2] No such file or directory: '/home/manu.puthiyadath/data/silver/images/smpl-supernova-video-frames-png-2/dataset/n/image-renders/0001/0.png'"
     ]
    }
   ],
   "source": [
    "kp_folder = \"/home/manu.puthiyadath/data/silver/images/smpl-supernova-video-frames-png-2/dataset/n/image-renders/\"\n",
    "kp_files = os.listdir(kp_folder)\n",
    "## go through the folders in kp_folder\n",
    "kp_files.sort()\n",
    "\n",
    "\n",
    "for folder in kp_files:\n",
    "    folder_path = osp.join(kp_folder, folder)\n",
    "    subfolder_path = osp.join(folder_path, '20'+folder)\n",
    "    if not osp.exists(subfolder_path):\n",
    "        os.makedirs(subfolder_path)\n",
    "    shutil.copy(osp.join(folder_path, '0.png'), osp.join(subfolder_path, '0.png'))\n",
    "    ## delete folder_path/0.png\n",
    "    if osp.exists(osp.join(folder_path, '0.png')):\n",
    "        os.remove(osp.join(folder_path, '0.png'))\n",
    "    if osp.exists(osp.join(folder_path, folder)):\n",
    "        shutil.rmtree(osp.join(folder_path, folder))"
   ]
  },
  {
   "cell_type": "code",
   "execution_count": null,
   "metadata": {},
   "outputs": [],
   "source": [
    "kp_folder = \"/home/manu.puthiyadath/data/silver/images/smpl-supernova-video-frames-png-2/dataset/n/image-renders/\"\n",
    "kp_files = os.listdir(kp_folder)\n",
    "## go through the folders in kp_folder\n",
    "kp_files.sort()\n",
    "\n",
    "## pick only those folders in kp_files that have a numeric name\n",
    "kp_files = [folder for folder in kp_files if folder.isdigit()]\n",
    "\n",
    "\n",
    "for folder in kp_files:\n",
    "    folder_path = osp.join(kp_folder, folder)\n",
    "    ## go to the subfolder\n",
    "    subfolder_path = osp.join(folder_path, '20'+folder)\n",
    "    ## convert the .json file to .png\n",
    "\n",
    "    if osp.exists(osp.join(subfolder_path, '0.json')):\n",
    "        os.rename(osp.join(subfolder_path, '0.json'), osp.join(subfolder_path, '0.png'))\n",
    "    \n"
   ]
  },
  {
   "cell_type": "code",
   "execution_count": null,
   "metadata": {},
   "outputs": [],
   "source": [
    "\"/home/manu.puthiyadath/data/silver/images/smpl-supernova-video-frames-png-2/dataset/n/image-renders/0001/0001/\""
   ]
  }
 ],
 "metadata": {
  "kernelspec": {
   "display_name": "mvsmplfit_v2",
   "language": "python",
   "name": "python3"
  },
  "language_info": {
   "codemirror_mode": {
    "name": "ipython",
    "version": 3
   },
   "file_extension": ".py",
   "mimetype": "text/x-python",
   "name": "python",
   "nbconvert_exporter": "python",
   "pygments_lexer": "ipython3",
   "version": "3.9.18"
  }
 },
 "nbformat": 4,
 "nbformat_minor": 2
}
