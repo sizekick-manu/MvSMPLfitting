{
 "cells": [
  {
   "cell_type": "code",
   "execution_count": null,
   "metadata": {},
   "outputs": [],
   "source": []
  },
  {
   "cell_type": "code",
   "execution_count": 1,
   "metadata": {},
   "outputs": [
    {
     "name": "stdout",
     "output_type": "stream",
     "text": [
      "\u001b[32m[11/05 12:09:16 d2.checkpoint.detection_checkpoint]: \u001b[0m[DetectionCheckpointer] Loading from https://dl.fbaipublicfiles.com/detectron2/COCO-Keypoints/keypoint_rcnn_R_50_FPN_3x/137849621/model_final_a6e10b.pkl ...\n"
     ]
    },
    {
     "name": "stderr",
     "output_type": "stream",
     "text": [
      "/home/manu.puthiyadath/anaconda3/envs/mvsmplfit_v2/lib/python3.9/site-packages/torch/cuda/__init__.py:611: UserWarning: Can't initialize NVML\n",
      "  warnings.warn(\"Can't initialize NVML\")\n"
     ]
    }
   ],
   "source": [
    "import cv2\n",
    "import torch\n",
    "import detectron2\n",
    "from detectron2.utils.logger import setup_logger\n",
    "setup_logger()\n",
    "\n",
    "# import some common detectron2 utilities\n",
    "from detectron2 import model_zoo\n",
    "from detectron2.engine import DefaultPredictor\n",
    "from detectron2.config import get_cfg\n",
    "from detectron2.utils.visualizer import Visualizer\n",
    "from detectron2.data import MetadataCatalog\n",
    "\n",
    "# Set up the configuration and the default predictor\n",
    "cfg = get_cfg()\n",
    "cfg.merge_from_file(model_zoo.get_config_file(\"COCO-Keypoints/keypoint_rcnn_R_50_FPN_3x.yaml\"))\n",
    "cfg.MODEL.ROI_HEADS.SCORE_THRESH_TEST = 0.7  # Set threshold for this model\n",
    "cfg.MODEL.WEIGHTS = model_zoo.get_checkpoint_url(\"COCO-Keypoints/keypoint_rcnn_R_50_FPN_3x.yaml\")\n",
    "predictor = DefaultPredictor(cfg)"
   ]
  },
  {
   "cell_type": "code",
   "execution_count": 2,
   "metadata": {},
   "outputs": [],
   "source": [
    "image = cv2.imread(\"/home/manu.puthiyadath/projects/MvSMPLfitting/data/images/0000/Camera00/00001.png\")\n"
   ]
  },
  {
   "cell_type": "code",
   "execution_count": 3,
   "metadata": {},
   "outputs": [
    {
     "name": "stderr",
     "output_type": "stream",
     "text": [
      "/home/manu.puthiyadath/anaconda3/envs/mvsmplfit_v2/lib/python3.9/site-packages/torch/functional.py:504: UserWarning: torch.meshgrid: in an upcoming release, it will be required to pass the indexing argument. (Triggered internally at /opt/conda/conda-bld/pytorch_1695392022560/work/aten/src/ATen/native/TensorShape.cpp:3526.)\n",
      "  return _VF.meshgrid(tensors, **kwargs)  # type: ignore[attr-defined]\n"
     ]
    }
   ],
   "source": [
    "outputs = predictor(image)\n",
    "keypoints = outputs[\"instances\"].pred_keypoints.cpu().numpy()\n"
   ]
  },
  {
   "cell_type": "code",
   "execution_count": 4,
   "metadata": {},
   "outputs": [
    {
     "data": {
      "text/plain": [
       "array([[[5.5518127e+02, 3.4845593e+02, 2.7420878e+00],\n",
       "        [5.8106818e+02, 3.2111453e+02, 5.2224803e+00],\n",
       "        [5.2497986e+02, 3.2255353e+02, 5.7185011e+00],\n",
       "        [6.2133667e+02, 3.4845593e+02, 1.1409582e+00],\n",
       "        [4.8758768e+02, 3.5277298e+02, 1.2672026e+00],\n",
       "        [7.0043555e+02, 5.4416272e+02, 6.7108369e-01],\n",
       "        [4.1711777e+02, 5.4128473e+02, 6.9855082e-01],\n",
       "        [7.5796204e+02, 7.7152802e+02, 6.1158639e-01],\n",
       "        [3.3082806e+02, 7.6145483e+02, 7.4006051e-01],\n",
       "        [8.0254504e+02, 9.6579578e+02, 6.0208446e-01],\n",
       "        [2.6179630e+02, 9.5716174e+02, 9.1235006e-01],\n",
       "        [6.3140381e+02, 9.8306415e+02, 2.5848085e-01],\n",
       "        [4.4300464e+02, 9.7874701e+02, 2.2832005e-01],\n",
       "        [6.1702216e+02, 1.2996487e+03, 8.0368358e-01],\n",
       "        [4.1424146e+02, 1.2967706e+03, 5.3909194e-01],\n",
       "        [6.0695508e+02, 1.5629894e+03, 5.6990957e-01],\n",
       "        [3.9123080e+02, 1.5673065e+03, 4.1298515e-01]]], dtype=float32)"
      ]
     },
     "execution_count": 4,
     "metadata": {},
     "output_type": "execute_result"
    }
   ],
   "source": [
    "keypoints"
   ]
  },
  {
   "cell_type": "code",
   "execution_count": 7,
   "metadata": {},
   "outputs": [
    {
     "data": {
      "text/plain": [
       "array([[5.5518127e+02, 3.4845593e+02, 2.7420878e+00],\n",
       "       [5.8106818e+02, 3.2111453e+02, 5.2224803e+00],\n",
       "       [5.2497986e+02, 3.2255353e+02, 5.7185011e+00],\n",
       "       [6.2133667e+02, 3.4845593e+02, 1.1409582e+00],\n",
       "       [4.8758768e+02, 3.5277298e+02, 1.2672026e+00],\n",
       "       [7.0043555e+02, 5.4416272e+02, 6.7108369e-01],\n",
       "       [4.1711777e+02, 5.4128473e+02, 6.9855082e-01],\n",
       "       [7.5796204e+02, 7.7152802e+02, 6.1158639e-01],\n",
       "       [3.3082806e+02, 7.6145483e+02, 7.4006051e-01],\n",
       "       [8.0254504e+02, 9.6579578e+02, 6.0208446e-01],\n",
       "       [2.6179630e+02, 9.5716174e+02, 9.1235006e-01],\n",
       "       [6.3140381e+02, 9.8306415e+02, 2.5848085e-01],\n",
       "       [4.4300464e+02, 9.7874701e+02, 2.2832005e-01],\n",
       "       [6.1702216e+02, 1.2996487e+03, 8.0368358e-01],\n",
       "       [4.1424146e+02, 1.2967706e+03, 5.3909194e-01],\n",
       "       [6.0695508e+02, 1.5629894e+03, 5.6990957e-01],\n",
       "       [3.9123080e+02, 1.5673065e+03, 4.1298515e-01]], dtype=float32)"
      ]
     },
     "execution_count": 7,
     "metadata": {},
     "output_type": "execute_result"
    }
   ],
   "source": [
    "keypoints[0]"
   ]
  },
  {
   "cell_type": "code",
   "execution_count": 8,
   "metadata": {},
   "outputs": [
    {
     "ename": "IndexError",
     "evalue": "index 1 is out of bounds for axis 0 with size 1",
     "output_type": "error",
     "traceback": [
      "\u001b[0;31m---------------------------------------------------------------------------\u001b[0m",
      "\u001b[0;31mIndexError\u001b[0m                                Traceback (most recent call last)",
      "\u001b[1;32m/home/manu.puthiyadath/projects/MvSMPLfitting/notebooks/pose_detector.ipynb Cell 7\u001b[0m line \u001b[0;36m1\n\u001b[0;32m----> <a href='vscode-notebook-cell://ssh-remote%2B7b22686f73744e616d65223a224c6569612d45787465726e616c227d/home/manu.puthiyadath/projects/MvSMPLfitting/notebooks/pose_detector.ipynb#X15sdnNjb2RlLXJlbW90ZQ%3D%3D?line=0'>1</a>\u001b[0m keypoints[\u001b[39m1\u001b[39;49m]\n",
      "\u001b[0;31mIndexError\u001b[0m: index 1 is out of bounds for axis 0 with size 1"
     ]
    }
   ],
   "source": [
    "keypoints[1]"
   ]
  },
  {
   "cell_type": "code",
   "execution_count": 9,
   "metadata": {},
   "outputs": [],
   "source": [
    "json_pose_object = {}\n",
    "json_pose_object[\"version\"] = 1.1\n",
    "json_pose_object[\"people\"] = []\n",
    "json_pose_object[\"people\"].append({\"pose_keypoints_2d\": keypoints[0].tolist()})\n",
    "\n"
   ]
  },
  {
   "cell_type": "code",
   "execution_count": 10,
   "metadata": {},
   "outputs": [
    {
     "data": {
      "text/plain": [
       "{'version': 1.1,\n",
       " 'people': [{'pose_keypoints_2d': [[555.1812744140625,\n",
       "     348.4559326171875,\n",
       "     2.7420878410339355],\n",
       "    [581.0681762695312, 321.1145324707031, 5.222480297088623],\n",
       "    [524.9798583984375, 322.55352783203125, 5.718501091003418],\n",
       "    [621.336669921875, 348.4559326171875, 1.1409581899642944],\n",
       "    [487.5876770019531, 352.7729797363281, 1.267202615737915],\n",
       "    [700.435546875, 544.1627197265625, 0.6710836887359619],\n",
       "    [417.1177673339844, 541.2847290039062, 0.698550820350647],\n",
       "    [757.9620361328125, 771.5280151367188, 0.6115863919258118],\n",
       "    [330.82806396484375, 761.454833984375, 0.7400605082511902],\n",
       "    [802.5450439453125, 965.7957763671875, 0.6020844578742981],\n",
       "    [261.7962951660156, 957.1617431640625, 0.912350058555603],\n",
       "    [631.40380859375, 983.0641479492188, 0.25848084688186646],\n",
       "    [443.004638671875, 978.7470092773438, 0.22832004725933075],\n",
       "    [617.0221557617188, 1299.648681640625, 0.8036835789680481],\n",
       "    [414.241455078125, 1296.7706298828125, 0.539091944694519],\n",
       "    [606.955078125, 1562.9893798828125, 0.5699095726013184],\n",
       "    [391.2308044433594, 1567.3065185546875, 0.4129851460456848]]}]}"
      ]
     },
     "execution_count": 10,
     "metadata": {},
     "output_type": "execute_result"
    }
   ],
   "source": [
    "json_pose_object"
   ]
  },
  {
   "cell_type": "code",
   "execution_count": 12,
   "metadata": {},
   "outputs": [],
   "source": [
    "## save json object to file\n",
    "import json\n",
    "with open('/home/manu.puthiyadath/projects/MvSMPLfitting/data/keypoints/0000/Camera00/detectron_00001_keypoints.json', 'w') as outfile:\n",
    "    json.dump(json_pose_object, outfile)\n"
   ]
  },
  {
   "cell_type": "code",
   "execution_count": 5,
   "metadata": {},
   "outputs": [
    {
     "ename": "",
     "evalue": "",
     "output_type": "error",
     "traceback": [
      "\u001b[1;31mThe Kernel crashed while executing code in the the current cell or a previous cell. Please review the code in the cell(s) to identify a possible cause of the failure. Click <a href='https://aka.ms/vscodeJupyterKernelCrash'>here</a> for more info. View Jupyter <a href='command:jupyter.viewOutput'>log</a> for further details."
     ]
    }
   ],
   "source": [
    "# v = Visualizer(image[:, :, ::-1], MetadataCatalog.get(cfg.DATASETS.TRAIN[0]), scale=1.2)\n",
    "# out = v.draw_instance_predictions(outputs[\"instances\"].to(\"cpu\"))\n",
    "# out_image = out.get_image()[:, :, ::-1]\n",
    "# cv2.imshow(\"output\", out_image)\n",
    "# # cv2.waitKey(0)\n"
   ]
  },
  {
   "cell_type": "code",
   "execution_count": 6,
   "metadata": {},
   "outputs": [
    {
     "data": {
      "text/plain": [
       "(2304, 1296, 3)"
      ]
     },
     "execution_count": 6,
     "metadata": {},
     "output_type": "execute_result"
    }
   ],
   "source": [
    "out.get_image()[:, :, ::-1].shape"
   ]
  },
  {
   "cell_type": "code",
   "execution_count": 7,
   "metadata": {},
   "outputs": [
    {
     "data": {
      "text/plain": [
       "numpy.ndarray"
      ]
     },
     "execution_count": 7,
     "metadata": {},
     "output_type": "execute_result"
    }
   ],
   "source": [
    "type(image)"
   ]
  },
  {
   "cell_type": "code",
   "execution_count": null,
   "metadata": {},
   "outputs": [],
   "source": []
  }
 ],
 "metadata": {
  "kernelspec": {
   "display_name": "mvsmplfit_v2",
   "language": "python",
   "name": "python3"
  },
  "language_info": {
   "codemirror_mode": {
    "name": "ipython",
    "version": 3
   },
   "file_extension": ".py",
   "mimetype": "text/x-python",
   "name": "python",
   "nbconvert_exporter": "python",
   "pygments_lexer": "ipython3",
   "version": "3.9.18"
  }
 },
 "nbformat": 4,
 "nbformat_minor": 2
}
